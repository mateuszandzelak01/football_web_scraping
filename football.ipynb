{
  "nbformat": 4,
  "nbformat_minor": 0,
  "metadata": {
    "colab": {
      "name": "football.ipynb",
      "provenance": [],
      "collapsed_sections": [],
      "authorship_tag": "ABX9TyN1mUoHcdwk2vMYPSdW455D",
      "include_colab_link": true
    },
    "kernelspec": {
      "name": "python3",
      "display_name": "Python 3"
    },
    "language_info": {
      "name": "python"
    }
  },
  "cells": [
    {
      "cell_type": "markdown",
      "metadata": {
        "id": "view-in-github",
        "colab_type": "text"
      },
      "source": [
        "<a href=\"https://colab.research.google.com/github/mateuszandzelak01/football_web_scraping/blob/main/football.ipynb\" target=\"_parent\"><img src=\"https://colab.research.google.com/assets/colab-badge.svg\" alt=\"Open In Colab\"/></a>"
      ]
    },
    {
      "cell_type": "markdown",
      "metadata": {
        "id": "3j5_RS7Gt-ij"
      },
      "source": [
        "## **Import Libraries**"
      ]
    },
    {
      "cell_type": "code",
      "metadata": {
        "id": "hXO0Fo8qtkVG"
      },
      "source": [
        "import pandas as pd\n",
        "import numpy as np\n",
        "import requests\n",
        "from bs4 import BeautifulSoup\n",
        "import warnings\n",
        "warnings.filterwarnings('ignore')"
      ],
      "execution_count": 1,
      "outputs": []
    },
    {
      "cell_type": "markdown",
      "metadata": {
        "id": "C7EcCCrTis0A"
      },
      "source": [
        "## **Test requests and BeautifulSoup Libraries**"
      ]
    },
    {
      "cell_type": "code",
      "metadata": {
        "id": "Z3eBDeeDuKZU"
      },
      "source": [
        "url = 'https://www.transfermarkt.pl/pko-ekstraklasa/startseite/wettbewerb/PL1/plus/?saison_id=2013'\n",
        "headers = {\"User-Agent\":\"Mozilla/5.0\"}\n",
        "response = requests.get(url, headers=headers, verify=False)\n",
        "soup = BeautifulSoup(response.text, 'html.parser')\n",
        "table = soup.find('table', {'class' : 'items'})\n",
        "row = table.findAll('tr')"
      ],
      "execution_count": 2,
      "outputs": []
    },
    {
      "cell_type": "markdown",
      "metadata": {
        "id": "PfA55xgr0mSO"
      },
      "source": [
        "## **Lech Poznań Example**"
      ]
    },
    {
      "cell_type": "code",
      "metadata": {
        "colab": {
          "base_uri": "https://localhost:8080/",
          "height": 35
        },
        "id": "W889j3rVxMcN",
        "outputId": "7f297b8f-6059-4cd7-c201-f2d86de31651"
      },
      "source": [
        "row[2].text"
      ],
      "execution_count": null,
      "outputs": [
        {
          "output_type": "execute_result",
          "data": {
            "application/vnd.google.colaboratory.intrinsic+json": {
              "type": "string"
            },
            "text/plain": [
              "'\\nLegia Warszawa Legia Warszawa4123,413587 tys. €24,05 mln €587 tys. €24,05 mln €'"
            ]
          },
          "metadata": {},
          "execution_count": 4
        }
      ]
    },
    {
      "cell_type": "markdown",
      "metadata": {
        "id": "pJ3LJylJ0tpu"
      },
      "source": [
        "## **Read the whole table with a loop**"
      ]
    },
    {
      "cell_type": "code",
      "metadata": {
        "id": "LqUvgK8m0rYE"
      },
      "source": [
        "team = []\n",
        "squad = []\n",
        "age = []\n",
        "foreigners = []\n",
        "total_market_value = []\n",
        "average_market_value = []\n",
        "for row in table.findAll('tr'):\n",
        "    try:\n",
        "        col = row.findAll('td')\n",
        "        team.append(col[2].text)\n",
        "        squad.append(col[3].text)\n",
        "        age.append(col[4].text)\n",
        "        foreigners.append(col[5].text)\n",
        "        total_market_value.append(col[6].text)\n",
        "        average_market_value.append(col[7].text)\n",
        "    except:\n",
        "        pass"
      ],
      "execution_count": null,
      "outputs": []
    },
    {
      "cell_type": "markdown",
      "metadata": {
        "id": "CUy8jb8d1e_0"
      },
      "source": [
        "## **Build Dataframe**"
      ]
    },
    {
      "cell_type": "code",
      "metadata": {
        "id": "YP5VOWHl1YPw"
      },
      "source": [
        "df_ekstraklasa = pd.DataFrame({'Team': team[1:],'Squad': squad[1:], \n",
        "                              'Age': age[1:], 'Foreigners': foreigners[1:],\n",
        "                              'Total Value': total_market_value[1:], \n",
        "                              'Average value': average_market_value[1:]})"
      ],
      "execution_count": null,
      "outputs": []
    },
    {
      "cell_type": "code",
      "metadata": {
        "colab": {
          "base_uri": "https://localhost:8080/"
        },
        "id": "GlA8_p751q-c",
        "outputId": "a310bbeb-9bbf-4f11-d3b3-d22e5b8bfa8c"
      },
      "source": [
        "print(df_ekstraklasa)"
      ],
      "execution_count": null,
      "outputs": [
        {
          "output_type": "stream",
          "name": "stdout",
          "text": [
            "              Team Squad   Age Foreigners Total Value Average value\n",
            "0   Legia Warszawa    41  23,4         13  587 tys. €   24,05 mln €\n",
            "1      Lech Poznań    34  23,7         11  501 tys. €   17,05 mln €\n",
            "2    Śląsk Wrocław    36  24,7         14  417 tys. €   15,03 mln €\n",
            "3   Zagłębie Lubin    43  22,9         13  331 tys. €   14,23 mln €\n",
            "4    Górnik Zabrze    44  24,7          8  302 tys. €   13,30 mln €\n",
            "5    Piast Gliwice    35  24,8         14  359 tys. €   12,55 mln €\n",
            "6     Wisła Kraków    38  22,5         10  311 tys. €   11,83 mln €\n",
            "7      Jagiellonia    43  21,9         11  251 tys. €   10,78 mln €\n",
            "8    Korona Kielce    42  23,9         10  249 tys. €   10,45 mln €\n",
            "9    Lechia Gdańsk    39  22,8          7  253 tys. €    9,88 mln €\n",
            "10  Pogoń Szczecin    34  23,6          7  269 tys. €    9,15 mln €\n",
            "11     Widzew Łódź    45  22,1         16  179 tys. €    8,08 mln €\n",
            "12         Zawisza    33  25,2          7  233 tys. €    7,68 mln €\n",
            "13        Cracovia    34  23,7         10  225 tys. €    7,65 mln €\n",
            "14    Ruch Chorzów    38  23,4          2  190 tys. €    7,23 mln €\n",
            "15    Podbeskidzie    40  25,1          7  175 tys. €    7,00 mln €\n"
          ]
        }
      ]
    },
    {
      "cell_type": "markdown",
      "metadata": {
        "id": "PVOx_27E3YMK"
      },
      "source": [
        "## **SEASON 2012-2021**"
      ]
    },
    {
      "cell_type": "code",
      "metadata": {
        "id": "UZrRF5C-1udz"
      },
      "source": [
        "dct_pl = {}\n",
        "\n",
        "for m in range(2012,2022):\n",
        "    dct_pl['df_pl_%s' % m] = pd.DataFrame()"
      ],
      "execution_count": 3,
      "outputs": []
    },
    {
      "cell_type": "markdown",
      "metadata": {
        "id": "3FvIyZKl4V1F"
      },
      "source": [
        "## **List with our needed URLs for each season**"
      ]
    },
    {
      "cell_type": "code",
      "metadata": {
        "id": "EXVReEX04WBD"
      },
      "source": [
        "league_urls = 'https://www.transfermarkt.pl/pko-ekstraklasa/startseite/wettbewerb/PL1/plus/?saison_id='"
      ],
      "execution_count": 4,
      "outputs": []
    },
    {
      "cell_type": "markdown",
      "metadata": {
        "id": "SqHW9Sg-5KLp"
      },
      "source": [
        "## **Scrapping all data**"
      ]
    },
    {
      "cell_type": "code",
      "metadata": {
        "id": "2mEoka8f40Zv"
      },
      "source": [
        "for n in range(2012,2022):\n",
        "        df_soccer1 = None\n",
        "        url = league_urls + str(n)\n",
        "        headers = {\"User-Agent\":\"Mozilla/5.0\"}\n",
        "        response = requests.get(url, headers=headers, verify=False)\n",
        "        soup = BeautifulSoup(response.text, 'html.parser')\n",
        "\n",
        "        #Table 1 with information about the value\n",
        "        table = soup.find(\"table\", {\"class\" : \"items\"})\n",
        "\n",
        "        team = []\n",
        "        squad = []\n",
        "        age = []\n",
        "        foreigners = []\n",
        "        total_market_value = []\n",
        "        average_market_value = []\n",
        "\n",
        "        for row in table.findAll('tr'):\n",
        "            try:\n",
        "                col = row.findAll('td')\n",
        "                team.append(col[2].text)\n",
        "                squad.append(col[3].text)\n",
        "                age.append(col[4].text)\n",
        "                foreigners.append(col[5].text)\n",
        "                total_market_value.append(col[7].text)\n",
        "                average_market_value.append(col[6].text)\n",
        "            except:\n",
        "                pass\n",
        "\n",
        "        team = [elem.replace('\\n','').replace('\\xa0','').strip() for elem in team]\n",
        "\n",
        "        #Table 2 with information about placement, goals and points\n",
        "        \n",
        "\n",
        "        df_soccer2 = None\n",
        "\n",
        "        table2 = soup.findAll(\"div\", {\"class\" : \"responsive-table\"})\n",
        "\n",
        "        team2 = []\n",
        "        place = []\n",
        "        matches = []\n",
        "        difference = []\n",
        "        pts = []\n",
        "\n",
        "        if n in range(2013,2020):\n",
        "          for row in table2[1].findAll('tr'):\n",
        "                try:\n",
        "                    col = row.findAll('td')\n",
        "                    team2.append(col[2].text)\n",
        "                    place.append(col[0].text)\n",
        "                    matches.append(col[3].text)\n",
        "                    difference.append(col[4].text)\n",
        "                    pts.append(col[5].text)\n",
        "                except:\n",
        "                    pass\n",
        "          for row in table2[2].findAll('tr'):\n",
        "                try:\n",
        "                    col = row.findAll('td')\n",
        "                    team2.append(col[2].text)\n",
        "                    place.append(8+int(col[0].text))\n",
        "                    matches.append(col[3].text)\n",
        "                    difference.append(col[4].text)\n",
        "                    pts.append(col[5].text)\n",
        "                except:\n",
        "                    pass\n",
        "        else:\n",
        "            if len(table2) <= 2:\n",
        "              for row in table2[1].findAll('tr'):\n",
        "                  try:\n",
        "                      col = row.findAll('td')\n",
        "                      team2.append(col[2].text)\n",
        "                      place.append(col[0].text)\n",
        "                      matches.append(col[3].text)\n",
        "                      difference.append(col[4].text)\n",
        "                      pts.append(col[5].text)\n",
        "                  except:\n",
        "                      pass\n",
        "            else:\n",
        "              #Sometimes the information you need is in another table\n",
        "              for row in table2[2].findAll('tr'):\n",
        "                  try:\n",
        "                      col = row.findAll('td')\n",
        "                      team2.append(col[2].text)\n",
        "                      place.append(col[0].text)\n",
        "                      matches.append(col[3].text)\n",
        "                      difference.append(col[4].text)\n",
        "                      pts.append(col[5].text)\n",
        "                  except:\n",
        "                      pass\n",
        "        \n",
        "        team2 = [elem.replace('\\n','').replace('\\xa0','').strip() for elem in team2]\n",
        "\n",
        "        df_soccer1 = pd.DataFrame({'Team': team[1:], 'Season': n, 'Squad': squad[1:], 'Age': age[1:], 'Foreigners': foreigners[1:],\n",
        "                                     'Average value': average_market_value[1:], 'Total Value': total_market_value[1:]})\n",
        "\n",
        "        df_soccer2 = pd.DataFrame({'Team': team2, 'Place': place, 'Matches': matches, 'Difference': difference,\n",
        "                                 'Points': pts})\n",
        "        dct_pl['df_pl_%s' % n] = pd.merge(df_soccer1, df_soccer2, how=\"inner\", left_on=\"Team\", right_on=\"Team\")"
      ],
      "execution_count": 11,
      "outputs": []
    },
    {
      "cell_type": "code",
      "metadata": {
        "id": "jkKvshMunyIP"
      },
      "source": [
        "df_pl_final = pd.concat(dct_pl.values(), ignore_index=True)"
      ],
      "execution_count": 12,
      "outputs": []
    },
    {
      "cell_type": "code",
      "metadata": {
        "id": "oJk8IrDms4d0"
      },
      "source": [
        "#Cleaning strings and remove letters\n",
        "list_dataframes_conv = (['Average value','Total Value'])\n",
        "\n",
        "for n in range(0,len(list_dataframes_conv)):\n",
        "    df_pl_final[list_dataframes_conv[n]] = df_pl_final[list_dataframes_conv[n]]. \\\n",
        "    apply(lambda x: (x + \"000\").replace(',','') if \" tys. €\" in x else x).str.replace(' tys. €','')\n",
        "\n",
        "    df_pl_final[list_dataframes_conv[n]] = df_pl_final[list_dataframes_conv[n]]. \\\n",
        "    apply(lambda x: (x + \"0000\").replace(',','') if \" mln €\" in x else x).str.replace(' mln €','')\n",
        "    \n",
        "    df_pl_final[list_dataframes_conv[n]] = df_pl_final[list_dataframes_conv[n]].apply(lambda x: x.replace(',','.'))\n",
        "\n",
        "df_pl_final['Age'] = df_pl_final['Age'].apply(lambda x: x.replace(',','.'))"
      ],
      "execution_count": 13,
      "outputs": []
    },
    {
      "cell_type": "code",
      "metadata": {
        "colab": {
          "base_uri": "https://localhost:8080/",
          "height": 204
        },
        "id": "FXEed5dK1GYt",
        "outputId": "dad8ac42-50d6-4d23-c596-0809c066b83a"
      },
      "source": [
        "df_pl_final.head(5)"
      ],
      "execution_count": 14,
      "outputs": [
        {
          "output_type": "execute_result",
          "data": {
            "text/html": [
              "<div>\n",
              "<style scoped>\n",
              "    .dataframe tbody tr th:only-of-type {\n",
              "        vertical-align: middle;\n",
              "    }\n",
              "\n",
              "    .dataframe tbody tr th {\n",
              "        vertical-align: top;\n",
              "    }\n",
              "\n",
              "    .dataframe thead th {\n",
              "        text-align: right;\n",
              "    }\n",
              "</style>\n",
              "<table border=\"1\" class=\"dataframe\">\n",
              "  <thead>\n",
              "    <tr style=\"text-align: right;\">\n",
              "      <th></th>\n",
              "      <th>Team</th>\n",
              "      <th>Season</th>\n",
              "      <th>Squad</th>\n",
              "      <th>Age</th>\n",
              "      <th>Foreigners</th>\n",
              "      <th>Average value</th>\n",
              "      <th>Total Value</th>\n",
              "      <th>Place</th>\n",
              "      <th>Matches</th>\n",
              "      <th>Difference</th>\n",
              "      <th>Points</th>\n",
              "    </tr>\n",
              "  </thead>\n",
              "  <tbody>\n",
              "    <tr>\n",
              "      <th>0</th>\n",
              "      <td>Wisła Kraków</td>\n",
              "      <td>2012</td>\n",
              "      <td>32</td>\n",
              "      <td>25.0</td>\n",
              "      <td>13</td>\n",
              "      <td>632000</td>\n",
              "      <td>20230000</td>\n",
              "      <td>8</td>\n",
              "      <td>30</td>\n",
              "      <td>-7</td>\n",
              "      <td>38</td>\n",
              "    </tr>\n",
              "    <tr>\n",
              "      <th>1</th>\n",
              "      <td>Śląsk Wrocław</td>\n",
              "      <td>2012</td>\n",
              "      <td>34</td>\n",
              "      <td>24.6</td>\n",
              "      <td>9</td>\n",
              "      <td>594000</td>\n",
              "      <td>20200000</td>\n",
              "      <td>3</td>\n",
              "      <td>30</td>\n",
              "      <td>2</td>\n",
              "      <td>47</td>\n",
              "    </tr>\n",
              "    <tr>\n",
              "      <th>2</th>\n",
              "      <td>Legia Warszawa</td>\n",
              "      <td>2012</td>\n",
              "      <td>25</td>\n",
              "      <td>24.2</td>\n",
              "      <td>7</td>\n",
              "      <td>772000</td>\n",
              "      <td>19300000</td>\n",
              "      <td>1</td>\n",
              "      <td>30</td>\n",
              "      <td>37</td>\n",
              "      <td>67</td>\n",
              "    </tr>\n",
              "    <tr>\n",
              "      <th>3</th>\n",
              "      <td>Lech Poznań</td>\n",
              "      <td>2012</td>\n",
              "      <td>31</td>\n",
              "      <td>24.2</td>\n",
              "      <td>10</td>\n",
              "      <td>504000</td>\n",
              "      <td>15630000</td>\n",
              "      <td>2</td>\n",
              "      <td>30</td>\n",
              "      <td>24</td>\n",
              "      <td>61</td>\n",
              "    </tr>\n",
              "    <tr>\n",
              "      <th>4</th>\n",
              "      <td>Polonia</td>\n",
              "      <td>2012</td>\n",
              "      <td>41</td>\n",
              "      <td>23.6</td>\n",
              "      <td>12</td>\n",
              "      <td>346000</td>\n",
              "      <td>14200000</td>\n",
              "      <td>6</td>\n",
              "      <td>30</td>\n",
              "      <td>11</td>\n",
              "      <td>42</td>\n",
              "    </tr>\n",
              "  </tbody>\n",
              "</table>\n",
              "</div>"
            ],
            "text/plain": [
              "             Team  Season Squad   Age  ... Place Matches Difference Points\n",
              "0    Wisła Kraków    2012    32  25.0  ...    8       30         -7     38\n",
              "1   Śląsk Wrocław    2012    34  24.6  ...    3       30          2     47\n",
              "2  Legia Warszawa    2012    25  24.2  ...    1       30         37     67\n",
              "3     Lech Poznań    2012    31  24.2  ...    2       30         24     61\n",
              "4         Polonia    2012    41  23.6  ...    6       30         11     42\n",
              "\n",
              "[5 rows x 11 columns]"
            ]
          },
          "metadata": {},
          "execution_count": 14
        }
      ]
    },
    {
      "cell_type": "code",
      "metadata": {
        "id": "pSVqkrLNuAwl",
        "colab": {
          "base_uri": "https://localhost:8080/",
          "height": 419
        },
        "outputId": "2757fbeb-355c-436a-a30b-a957f0645bbf"
      },
      "source": [
        "#Convert columns for calculation to float\n",
        "df_pl_final[['Squad','Foreigners','Average value','Total Value', 'Matches', 'Place','Difference', 'Points']].astype(int)\n",
        "df_pl_final[['Age']].astype(float)"
      ],
      "execution_count": 17,
      "outputs": [
        {
          "output_type": "execute_result",
          "data": {
            "text/html": [
              "<div>\n",
              "<style scoped>\n",
              "    .dataframe tbody tr th:only-of-type {\n",
              "        vertical-align: middle;\n",
              "    }\n",
              "\n",
              "    .dataframe tbody tr th {\n",
              "        vertical-align: top;\n",
              "    }\n",
              "\n",
              "    .dataframe thead th {\n",
              "        text-align: right;\n",
              "    }\n",
              "</style>\n",
              "<table border=\"1\" class=\"dataframe\">\n",
              "  <thead>\n",
              "    <tr style=\"text-align: right;\">\n",
              "      <th></th>\n",
              "      <th>Age</th>\n",
              "    </tr>\n",
              "  </thead>\n",
              "  <tbody>\n",
              "    <tr>\n",
              "      <th>0</th>\n",
              "      <td>25.0</td>\n",
              "    </tr>\n",
              "    <tr>\n",
              "      <th>1</th>\n",
              "      <td>24.6</td>\n",
              "    </tr>\n",
              "    <tr>\n",
              "      <th>2</th>\n",
              "      <td>24.2</td>\n",
              "    </tr>\n",
              "    <tr>\n",
              "      <th>3</th>\n",
              "      <td>24.2</td>\n",
              "    </tr>\n",
              "    <tr>\n",
              "      <th>4</th>\n",
              "      <td>23.6</td>\n",
              "    </tr>\n",
              "    <tr>\n",
              "      <th>...</th>\n",
              "      <td>...</td>\n",
              "    </tr>\n",
              "    <tr>\n",
              "      <th>157</th>\n",
              "      <td>26.3</td>\n",
              "    </tr>\n",
              "    <tr>\n",
              "      <th>158</th>\n",
              "      <td>25.7</td>\n",
              "    </tr>\n",
              "    <tr>\n",
              "      <th>159</th>\n",
              "      <td>24.4</td>\n",
              "    </tr>\n",
              "    <tr>\n",
              "      <th>160</th>\n",
              "      <td>26.0</td>\n",
              "    </tr>\n",
              "    <tr>\n",
              "      <th>161</th>\n",
              "      <td>26.2</td>\n",
              "    </tr>\n",
              "  </tbody>\n",
              "</table>\n",
              "<p>162 rows × 1 columns</p>\n",
              "</div>"
            ],
            "text/plain": [
              "      Age\n",
              "0    25.0\n",
              "1    24.6\n",
              "2    24.2\n",
              "3    24.2\n",
              "4    23.6\n",
              "..    ...\n",
              "157  26.3\n",
              "158  25.7\n",
              "159  24.4\n",
              "160  26.0\n",
              "161  26.2\n",
              "\n",
              "[162 rows x 1 columns]"
            ]
          },
          "metadata": {},
          "execution_count": 17
        }
      ]
    },
    {
      "cell_type": "code",
      "metadata": {
        "id": "_d_G35rhr4mQ",
        "colab": {
          "base_uri": "https://localhost:8080/",
          "height": 204
        },
        "outputId": "5e8aad22-7dbf-422d-8d70-a68ed34cf05a"
      },
      "source": [
        "df_pl_final.head(5)"
      ],
      "execution_count": 19,
      "outputs": [
        {
          "output_type": "execute_result",
          "data": {
            "text/html": [
              "<div>\n",
              "<style scoped>\n",
              "    .dataframe tbody tr th:only-of-type {\n",
              "        vertical-align: middle;\n",
              "    }\n",
              "\n",
              "    .dataframe tbody tr th {\n",
              "        vertical-align: top;\n",
              "    }\n",
              "\n",
              "    .dataframe thead th {\n",
              "        text-align: right;\n",
              "    }\n",
              "</style>\n",
              "<table border=\"1\" class=\"dataframe\">\n",
              "  <thead>\n",
              "    <tr style=\"text-align: right;\">\n",
              "      <th></th>\n",
              "      <th>Team</th>\n",
              "      <th>Season</th>\n",
              "      <th>Squad</th>\n",
              "      <th>Age</th>\n",
              "      <th>Foreigners</th>\n",
              "      <th>Average value</th>\n",
              "      <th>Total Value</th>\n",
              "      <th>Place</th>\n",
              "      <th>Matches</th>\n",
              "      <th>Difference</th>\n",
              "      <th>Points</th>\n",
              "    </tr>\n",
              "  </thead>\n",
              "  <tbody>\n",
              "    <tr>\n",
              "      <th>0</th>\n",
              "      <td>Wisła Kraków</td>\n",
              "      <td>2012</td>\n",
              "      <td>32</td>\n",
              "      <td>25.0</td>\n",
              "      <td>13</td>\n",
              "      <td>632000</td>\n",
              "      <td>20230000</td>\n",
              "      <td>8</td>\n",
              "      <td>30</td>\n",
              "      <td>-7</td>\n",
              "      <td>38</td>\n",
              "    </tr>\n",
              "    <tr>\n",
              "      <th>1</th>\n",
              "      <td>Śląsk Wrocław</td>\n",
              "      <td>2012</td>\n",
              "      <td>34</td>\n",
              "      <td>24.6</td>\n",
              "      <td>9</td>\n",
              "      <td>594000</td>\n",
              "      <td>20200000</td>\n",
              "      <td>3</td>\n",
              "      <td>30</td>\n",
              "      <td>2</td>\n",
              "      <td>47</td>\n",
              "    </tr>\n",
              "    <tr>\n",
              "      <th>2</th>\n",
              "      <td>Legia Warszawa</td>\n",
              "      <td>2012</td>\n",
              "      <td>25</td>\n",
              "      <td>24.2</td>\n",
              "      <td>7</td>\n",
              "      <td>772000</td>\n",
              "      <td>19300000</td>\n",
              "      <td>1</td>\n",
              "      <td>30</td>\n",
              "      <td>37</td>\n",
              "      <td>67</td>\n",
              "    </tr>\n",
              "    <tr>\n",
              "      <th>3</th>\n",
              "      <td>Lech Poznań</td>\n",
              "      <td>2012</td>\n",
              "      <td>31</td>\n",
              "      <td>24.2</td>\n",
              "      <td>10</td>\n",
              "      <td>504000</td>\n",
              "      <td>15630000</td>\n",
              "      <td>2</td>\n",
              "      <td>30</td>\n",
              "      <td>24</td>\n",
              "      <td>61</td>\n",
              "    </tr>\n",
              "    <tr>\n",
              "      <th>4</th>\n",
              "      <td>Polonia</td>\n",
              "      <td>2012</td>\n",
              "      <td>41</td>\n",
              "      <td>23.6</td>\n",
              "      <td>12</td>\n",
              "      <td>346000</td>\n",
              "      <td>14200000</td>\n",
              "      <td>6</td>\n",
              "      <td>30</td>\n",
              "      <td>11</td>\n",
              "      <td>42</td>\n",
              "    </tr>\n",
              "  </tbody>\n",
              "</table>\n",
              "</div>"
            ],
            "text/plain": [
              "             Team  Season Squad   Age  ... Place Matches Difference Points\n",
              "0    Wisła Kraków    2012    32  25.0  ...    8       30         -7     38\n",
              "1   Śląsk Wrocław    2012    34  24.6  ...    3       30          2     47\n",
              "2  Legia Warszawa    2012    25  24.2  ...    1       30         37     67\n",
              "3     Lech Poznań    2012    31  24.2  ...    2       30         24     61\n",
              "4         Polonia    2012    41  23.6  ...    6       30         11     42\n",
              "\n",
              "[5 rows x 11 columns]"
            ]
          },
          "metadata": {},
          "execution_count": 19
        }
      ]
    },
    {
      "cell_type": "markdown",
      "metadata": {
        "id": "Oxzs5uir2xZX"
      },
      "source": [
        "## **SAVING CSV**"
      ]
    },
    {
      "cell_type": "code",
      "metadata": {
        "id": "NEkBRFyxsDTp",
        "colab": {
          "base_uri": "https://localhost:8080/"
        },
        "outputId": "f7e00f5c-e6d0-4363-de77-3fd6f01ae112"
      },
      "source": [
        "from google.colab import drive\n",
        "drive.mount('drive')"
      ],
      "execution_count": 21,
      "outputs": [
        {
          "output_type": "stream",
          "name": "stdout",
          "text": [
            "Mounted at drive\n"
          ]
        }
      ]
    },
    {
      "cell_type": "code",
      "metadata": {
        "id": "3_9flkLc2g6G"
      },
      "source": [
        "df_pl_final.to_csv('data_ekstraklasa.csv')"
      ],
      "execution_count": 25,
      "outputs": []
    },
    {
      "cell_type": "code",
      "metadata": {
        "id": "i_xrGs0U3Ryx"
      },
      "source": [
        "!cp data_ekstraklasa.csv \"drive/My Drive/\""
      ],
      "execution_count": 26,
      "outputs": []
    }
  ]
}