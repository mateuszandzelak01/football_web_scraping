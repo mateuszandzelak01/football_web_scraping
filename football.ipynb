{
  "nbformat": 4,
  "nbformat_minor": 0,
  "metadata": {
    "colab": {
      "name": "football.ipynb",
      "provenance": [],
      "collapsed_sections": [],
      "authorship_tag": "ABX9TyMHSan8IqWaEZZJ7dZV2g4S",
      "include_colab_link": true
    },
    "kernelspec": {
      "name": "python3",
      "display_name": "Python 3"
    },
    "language_info": {
      "name": "python"
    }
  },
  "cells": [
    {
      "cell_type": "markdown",
      "metadata": {
        "id": "view-in-github",
        "colab_type": "text"
      },
      "source": [
        "<a href=\"https://colab.research.google.com/github/mateuszandzelak01/football_web_scraping/blob/main/football.ipynb\" target=\"_parent\"><img src=\"https://colab.research.google.com/assets/colab-badge.svg\" alt=\"Open In Colab\"/></a>"
      ]
    },
    {
      "cell_type": "markdown",
      "metadata": {
        "id": "3j5_RS7Gt-ij"
      },
      "source": [
        "## **Import Libraries**"
      ]
    },
    {
      "cell_type": "code",
      "metadata": {
        "id": "hXO0Fo8qtkVG"
      },
      "source": [
        "import pandas as pd\n",
        "import numpy as np\n",
        "import requests\n",
        "from bs4 import BeautifulSoup\n",
        "import warnings\n",
        "warnings.filterwarnings('ignore')"
      ],
      "execution_count": null,
      "outputs": []
    },
    {
      "cell_type": "code",
      "metadata": {
        "id": "Z3eBDeeDuKZU"
      },
      "source": [
        "url = 'https://www.transfermarkt.pl/pko-ekstraklasa/startseite/wettbewerb/PL1/plus/?saison_id=2021'\n",
        "headers = {\"User-Agent\":\"Mozilla/5.0\"}\n",
        "response = requests.get(url, headers=headers, verify=False)\n",
        "soup = BeautifulSoup(response.text, 'html.parser')"
      ],
      "execution_count": null,
      "outputs": []
    },
    {
      "cell_type": "code",
      "metadata": {
        "id": "Z449m5OuwciI"
      },
      "source": [
        "table = soup.find('table', {'class' : 'items'})"
      ],
      "execution_count": null,
      "outputs": []
    },
    {
      "cell_type": "code",
      "metadata": {
        "id": "9nYE0AwqxGvO"
      },
      "source": [
        "row = table.findAll('tr')"
      ],
      "execution_count": null,
      "outputs": []
    },
    {
      "cell_type": "markdown",
      "metadata": {
        "id": "PfA55xgr0mSO"
      },
      "source": [
        "## **LECH POZNAŃ EXAMPLE**"
      ]
    },
    {
      "cell_type": "code",
      "metadata": {
        "colab": {
          "base_uri": "https://localhost:8080/",
          "height": 35
        },
        "id": "W889j3rVxMcN",
        "outputId": "6a0e407f-8156-4a93-98b4-22f52931a1b8"
      },
      "source": [
        "row[2].text"
      ],
      "execution_count": null,
      "outputs": [
        {
          "output_type": "execute_result",
          "data": {
            "application/vnd.google.colaboratory.intrinsic+json": {
              "type": "string"
            },
            "text/plain": [
              "'\\nLech Poznań Lech Poznań3225,2151,03 mln €32,80 mln €1,03 mln €32,80 mln €'"
            ]
          },
          "metadata": {},
          "execution_count": 6
        }
      ]
    },
    {
      "cell_type": "markdown",
      "metadata": {
        "id": "pJ3LJylJ0tpu"
      },
      "source": [
        "## **Read the whole table with a loop**"
      ]
    },
    {
      "cell_type": "code",
      "metadata": {
        "id": "LqUvgK8m0rYE"
      },
      "source": [
        "team = []\n",
        "squad = []\n",
        "age = []\n",
        "foreigners = []\n",
        "total_market_value = []\n",
        "average_market_value = []\n",
        "for row in table.findAll('tr'):\n",
        "    try:\n",
        "        col = row.findAll('td')\n",
        "        team.append(col[2].text)\n",
        "        squad.append(col[3].text)\n",
        "        age.append(col[4].text)\n",
        "        foreigners.append(col[5].text)\n",
        "        total_market_value.append(col[6].text)\n",
        "        average_market_value.append(col[7].text)\n",
        "    except:\n",
        "        pass"
      ],
      "execution_count": null,
      "outputs": []
    },
    {
      "cell_type": "markdown",
      "metadata": {
        "id": "CUy8jb8d1e_0"
      },
      "source": [
        "## **BUILD DATAFRAME**"
      ]
    },
    {
      "cell_type": "code",
      "metadata": {
        "id": "YP5VOWHl1YPw"
      },
      "source": [
        "df_ekstraklasa = pd.DataFrame({'Team': team[1:],'Squad': squad[1:], \n",
        "                              'Age': age[1:], 'Foreigners': foreigners[1:],\n",
        "                              'Total Value': total_market_value[1:], \n",
        "                              'Average value': average_market_value[1:]})"
      ],
      "execution_count": null,
      "outputs": []
    },
    {
      "cell_type": "code",
      "metadata": {
        "colab": {
          "base_uri": "https://localhost:8080/"
        },
        "id": "GlA8_p751q-c",
        "outputId": "9b659d8f-5a55-4e39-866a-d61a49da3e2b"
      },
      "source": [
        "print(df_ekstraklasa)"
      ],
      "execution_count": null,
      "outputs": [
        {
          "output_type": "stream",
          "name": "stdout",
          "text": [
            "              Team Squad   Age Foreigners Total Value Average value\n",
            "0      Lech Poznań    32  25,2         15  1,03 mln €   32,80 mln €\n",
            "1   Legia Warszawa    31  25,0         15  894 tys. €   27,73 mln €\n",
            "2   Pogoń Szczecin    29  25,8          8  852 tys. €   24,70 mln €\n",
            "3            Raków    30  25,1         17  645 tys. €   19,35 mln €\n",
            "4    Lechia Gdańsk    29  25,0         14  616 tys. €   17,85 mln €\n",
            "5      Jagiellonia    38  24,5         11  384 tys. €   14,60 mln €\n",
            "6   Zagłębie Lubin    31  24,3          9  440 tys. €   13,63 mln €\n",
            "7    Górnik Zabrze    27  24,5         10  468 tys. €   12,63 mln €\n",
            "8         Cracovia    36  23,8         17  340 tys. €   12,25 mln €\n",
            "9    Śląsk Wrocław    32  25,8          9  373 tys. €   11,95 mln €\n",
            "10    Wisła Kraków    30  25,7         12  397 tys. €   11,90 mln €\n",
            "11   Piast Gliwice    27  26,8         10  434 tys. €   11,73 mln €\n",
            "12     Wisła Płock    29  25,4          8  363 tys. €   10,53 mln €\n",
            "13        Radomiak    29  26,3         11  282 tys. €    8,18 mln €\n",
            "14     Stal Mielec    33  25,7          5  221 tys. €    7,30 mln €\n",
            "15    Warta Poznań    30  24,4          5  223 tys. €    6,68 mln €\n",
            "16       Termalica    32  26,0         11  207 tys. €    6,63 mln €\n",
            "17   Górnik Łęczna    31  26,2          4  161 tys. €    5,00 mln €\n"
          ]
        }
      ]
    },
    {
      "cell_type": "markdown",
      "metadata": {
        "id": "PVOx_27E3YMK"
      },
      "source": [
        "## **SEASON 2012-2021**"
      ]
    },
    {
      "cell_type": "code",
      "metadata": {
        "id": "UZrRF5C-1udz"
      },
      "source": [
        "dct_pl = {}\n",
        "\n",
        "for m in range(2012,2019):\n",
        "    dct_pl['df_pl_%s' % m] = pd.DataFrame()"
      ],
      "execution_count": null,
      "outputs": []
    },
    {
      "cell_type": "markdown",
      "metadata": {
        "id": "3FvIyZKl4V1F"
      },
      "source": [
        "## **List with our needed URLs for each league**"
      ]
    },
    {
      "cell_type": "code",
      "metadata": {
        "id": "EXVReEX04WBD"
      },
      "source": [
        "league_urls = (['https://www.transfermarkt.pl/pko-ekstraklasa/startseite/wettbewerb/PL1/plus/?saison_id='])"
      ],
      "execution_count": null,
      "outputs": []
    },
    {
      "cell_type": "markdown",
      "metadata": {
        "id": "SqHW9Sg-5KLp"
      },
      "source": [
        "## **Scrapping all data**"
      ]
    },
    {
      "cell_type": "code",
      "metadata": {
        "id": "2mEoka8f40Zv"
      },
      "source": [
        "for n in range(2012,2019):\n",
        "        df_soccer1 = None\n",
        "        url = league_urls[l] + str(n)\n",
        "        headers = {\"User-Agent\":\"Mozilla/5.0\"}\n",
        "        response = requests.get(url, headers=headers, verify=False)\n",
        "        soup = BeautifulSoup(response.text, 'html.parser')\n",
        "\n",
        "        #Table 1 with information about the value\n",
        "        table = soup.find(\"table\", {\"class\" : \"items\"})\n",
        "\n",
        "        team = []\n",
        "        squad = []\n",
        "        age = []\n",
        "        foreigners = []\n",
        "        total_market_value = []\n",
        "        average_market_value = []\n",
        "\n",
        "        for row in table.findAll('tr'):\n",
        "            try:\n",
        "                col = row.findAll('td')\n",
        "                team.append(col[2].text)\n",
        "                squad.append(col[3].text)\n",
        "                age.append(col[4].text)\n",
        "                foreigners.append(col[5].text)\n",
        "                total_market_value.append(col[6].text)\n",
        "                average_market_value.append(col[7].text)\n",
        "            except:\n",
        "                pass\n",
        "\n",
        "        team = [elem.replace('\\n','').replace('\\xa0','').strip() for elem in team]\n",
        "\n",
        "        #Table 2 with information about placement, goals and points\n",
        "        df_soccer2 = None\n",
        "\n",
        "        table2 = soup.findAll(\"div\", {\"class\" : \"responsive-table\"})\n",
        "\n",
        "        team2 = []\n",
        "        place = []\n",
        "        matches = []\n",
        "        difference = []\n",
        "        pts = []\n",
        "\n",
        "        if len(table2) <= 2:\n",
        "            for row in table2[1].findAll('tr'):\n",
        "                try:\n",
        "                    col = row.findAll('td')\n",
        "                    team2.append(col[2].text)\n",
        "                    place.append(col[0].text)\n",
        "                    matches.append(col[3].text)\n",
        "                    difference.append(col[4].text)\n",
        "                    pts.append(col[5].text)\n",
        "                except:\n",
        "                    pass\n",
        "        else:\n",
        "            #Sometimes the information you need is in another table\n",
        "            for row in table2[2].findAll('tr'):\n",
        "                try:\n",
        "                    col = row.findAll('td')\n",
        "                    team2.append(col[2].text)\n",
        "                    place.append(col[0].text)\n",
        "                    matches.append(col[3].text)\n",
        "                    difference.append(col[4].text)\n",
        "                    pts.append(col[5].text)\n",
        "                except:\n",
        "                    pass\n",
        "\n",
        "        team2 = [elem.replace('\\n','').replace('\\xa0','').strip() for elem in team2]\n",
        "\n",
        "        df_soccer1 = pd.DataFrame({'Team': team[1:], 'Season': n, 'Squad': squad[1:], 'Age': age[1:], 'Foreigners': foreigners[1:],\n",
        "                                     'Total Value': total_market_value[1:], 'Average value': average_market_value[1:]})\n",
        "\n",
        "        df_soccer2 = pd.DataFrame({'Team': team2, 'Place': place, 'Matches': matches, 'Difference': difference,\n",
        "                                 'Points': pts})\n",
        "        \n",
        "        #Store all dictionaries in a list\n",
        "        dct_all = [dct_pl]\n",
        "        \n",
        "        #Merge df_soccer1 and df_soccer2 for each season\n",
        "        dct_all[l]['df_pl_%s' % n] = pd.merge(df_soccer1, df_soccer2, how=\"inner\", left_on=\"Team\", right_on=\"Team\")"
      ],
      "execution_count": null,
      "outputs": []
    }
  ]
}