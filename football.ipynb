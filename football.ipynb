{
  "nbformat": 4,
  "nbformat_minor": 0,
  "metadata": {
    "colab": {
      "name": "football.ipynb",
      "provenance": [],
      "collapsed_sections": [],
      "authorship_tag": "ABX9TyNQRrBiMTerJQ4w113CmMMr",
      "include_colab_link": true
    },
    "kernelspec": {
      "name": "python3",
      "display_name": "Python 3"
    },
    "language_info": {
      "name": "python"
    }
  },
  "cells": [
    {
      "cell_type": "markdown",
      "metadata": {
        "id": "view-in-github",
        "colab_type": "text"
      },
      "source": [
        "<a href=\"https://colab.research.google.com/github/mateuszandzelak01/football_web_scraping/blob/main/football.ipynb\" target=\"_parent\"><img src=\"https://colab.research.google.com/assets/colab-badge.svg\" alt=\"Open In Colab\"/></a>"
      ]
    },
    {
      "cell_type": "markdown",
      "metadata": {
        "id": "3j5_RS7Gt-ij"
      },
      "source": [
        "## **Import Libraries**"
      ]
    },
    {
      "cell_type": "code",
      "metadata": {
        "id": "hXO0Fo8qtkVG"
      },
      "source": [
        "import pandas as pd\n",
        "import numpy as np\n",
        "import requests\n",
        "from bs4 import BeautifulSoup\n",
        "import warnings\n",
        "warnings.filterwarnings('ignore')"
      ],
      "execution_count": 2,
      "outputs": []
    },
    {
      "cell_type": "markdown",
      "metadata": {
        "id": "C7EcCCrTis0A"
      },
      "source": [
        "## **Test requests and BeautifulSoup Libraries**"
      ]
    },
    {
      "cell_type": "code",
      "metadata": {
        "id": "Z3eBDeeDuKZU"
      },
      "source": [
        "url = 'https://www.transfermarkt.pl/pko-ekstraklasa/startseite/wettbewerb/PL1/plus/?saison_id=2013'\n",
        "headers = {\"User-Agent\":\"Mozilla/5.0\"}\n",
        "response = requests.get(url, headers=headers, verify=False)\n",
        "soup = BeautifulSoup(response.text, 'html.parser')\n",
        "table = soup.find('table', {'class' : 'items'})\n",
        "row = table.findAll('tr')"
      ],
      "execution_count": 3,
      "outputs": []
    },
    {
      "cell_type": "markdown",
      "metadata": {
        "id": "PfA55xgr0mSO"
      },
      "source": [
        "## **Lech Poznań Example**"
      ]
    },
    {
      "cell_type": "code",
      "metadata": {
        "colab": {
          "base_uri": "https://localhost:8080/",
          "height": 35
        },
        "id": "W889j3rVxMcN",
        "outputId": "7f297b8f-6059-4cd7-c201-f2d86de31651"
      },
      "source": [
        "row[2].text"
      ],
      "execution_count": 4,
      "outputs": [
        {
          "output_type": "execute_result",
          "data": {
            "application/vnd.google.colaboratory.intrinsic+json": {
              "type": "string"
            },
            "text/plain": [
              "'\\nLegia Warszawa Legia Warszawa4123,413587 tys. €24,05 mln €587 tys. €24,05 mln €'"
            ]
          },
          "metadata": {},
          "execution_count": 4
        }
      ]
    },
    {
      "cell_type": "markdown",
      "metadata": {
        "id": "pJ3LJylJ0tpu"
      },
      "source": [
        "## **Read the whole table with a loop**"
      ]
    },
    {
      "cell_type": "code",
      "metadata": {
        "id": "LqUvgK8m0rYE"
      },
      "source": [
        "team = []\n",
        "squad = []\n",
        "age = []\n",
        "foreigners = []\n",
        "total_market_value = []\n",
        "average_market_value = []\n",
        "for row in table.findAll('tr'):\n",
        "    try:\n",
        "        col = row.findAll('td')\n",
        "        team.append(col[2].text)\n",
        "        squad.append(col[3].text)\n",
        "        age.append(col[4].text)\n",
        "        foreigners.append(col[5].text)\n",
        "        total_market_value.append(col[6].text)\n",
        "        average_market_value.append(col[7].text)\n",
        "    except:\n",
        "        pass"
      ],
      "execution_count": 5,
      "outputs": []
    },
    {
      "cell_type": "markdown",
      "metadata": {
        "id": "CUy8jb8d1e_0"
      },
      "source": [
        "## **Build Dataframe**"
      ]
    },
    {
      "cell_type": "code",
      "metadata": {
        "id": "YP5VOWHl1YPw"
      },
      "source": [
        "df_ekstraklasa = pd.DataFrame({'Team': team[1:],'Squad': squad[1:], \n",
        "                              'Age': age[1:], 'Foreigners': foreigners[1:],\n",
        "                              'Total Value': total_market_value[1:], \n",
        "                              'Average value': average_market_value[1:]})"
      ],
      "execution_count": 6,
      "outputs": []
    },
    {
      "cell_type": "code",
      "metadata": {
        "colab": {
          "base_uri": "https://localhost:8080/"
        },
        "id": "GlA8_p751q-c",
        "outputId": "a310bbeb-9bbf-4f11-d3b3-d22e5b8bfa8c"
      },
      "source": [
        "print(df_ekstraklasa)"
      ],
      "execution_count": 7,
      "outputs": [
        {
          "output_type": "stream",
          "name": "stdout",
          "text": [
            "              Team Squad   Age Foreigners Total Value Average value\n",
            "0   Legia Warszawa    41  23,4         13  587 tys. €   24,05 mln €\n",
            "1      Lech Poznań    34  23,7         11  501 tys. €   17,05 mln €\n",
            "2    Śląsk Wrocław    36  24,7         14  417 tys. €   15,03 mln €\n",
            "3   Zagłębie Lubin    43  22,9         13  331 tys. €   14,23 mln €\n",
            "4    Górnik Zabrze    44  24,7          8  302 tys. €   13,30 mln €\n",
            "5    Piast Gliwice    35  24,8         14  359 tys. €   12,55 mln €\n",
            "6     Wisła Kraków    38  22,5         10  311 tys. €   11,83 mln €\n",
            "7      Jagiellonia    43  21,9         11  251 tys. €   10,78 mln €\n",
            "8    Korona Kielce    42  23,9         10  249 tys. €   10,45 mln €\n",
            "9    Lechia Gdańsk    39  22,8          7  253 tys. €    9,88 mln €\n",
            "10  Pogoń Szczecin    34  23,6          7  269 tys. €    9,15 mln €\n",
            "11     Widzew Łódź    45  22,1         16  179 tys. €    8,08 mln €\n",
            "12         Zawisza    33  25,2          7  233 tys. €    7,68 mln €\n",
            "13        Cracovia    34  23,7         10  225 tys. €    7,65 mln €\n",
            "14    Ruch Chorzów    38  23,4          2  190 tys. €    7,23 mln €\n",
            "15    Podbeskidzie    40  25,1          7  175 tys. €    7,00 mln €\n"
          ]
        }
      ]
    },
    {
      "cell_type": "markdown",
      "metadata": {
        "id": "PVOx_27E3YMK"
      },
      "source": [
        "## **SEASON 2012-2021**"
      ]
    },
    {
      "cell_type": "code",
      "metadata": {
        "id": "UZrRF5C-1udz"
      },
      "source": [
        "dct_pl = {}\n",
        "\n",
        "for m in range(2012,2022):\n",
        "    dct_pl['df_pl_%s' % m] = pd.DataFrame()"
      ],
      "execution_count": 28,
      "outputs": []
    },
    {
      "cell_type": "markdown",
      "metadata": {
        "id": "3FvIyZKl4V1F"
      },
      "source": [
        "## **List with our needed URLs for each season**"
      ]
    },
    {
      "cell_type": "code",
      "metadata": {
        "id": "EXVReEX04WBD"
      },
      "source": [
        "league_urls = 'https://www.transfermarkt.pl/pko-ekstraklasa/startseite/wettbewerb/PL1/plus/?saison_id='"
      ],
      "execution_count": 9,
      "outputs": []
    },
    {
      "cell_type": "markdown",
      "metadata": {
        "id": "SqHW9Sg-5KLp"
      },
      "source": [
        "## **Scrapping all data**"
      ]
    },
    {
      "cell_type": "code",
      "metadata": {
        "id": "2mEoka8f40Zv"
      },
      "source": [
        "for n in range(2012,2022):\n",
        "        df_soccer1 = None\n",
        "        url = league_urls + str(n)\n",
        "        headers = {\"User-Agent\":\"Mozilla/5.0\"}\n",
        "        response = requests.get(url, headers=headers, verify=False)\n",
        "        soup = BeautifulSoup(response.text, 'html.parser')\n",
        "\n",
        "        #Table 1 with information about the value\n",
        "        table = soup.find(\"table\", {\"class\" : \"items\"})\n",
        "\n",
        "        team = []\n",
        "        squad = []\n",
        "        age = []\n",
        "        foreigners = []\n",
        "        total_market_value = []\n",
        "        average_market_value = []\n",
        "\n",
        "        for row in table.findAll('tr'):\n",
        "            try:\n",
        "                col = row.findAll('td')\n",
        "                team.append(col[2].text)\n",
        "                squad.append(col[3].text)\n",
        "                age.append(col[4].text)\n",
        "                foreigners.append(col[5].text)\n",
        "                total_market_value.append(col[7].text)\n",
        "                average_market_value.append(col[6].text)\n",
        "            except:\n",
        "                pass\n",
        "\n",
        "        team = [elem.replace('\\n','').replace('\\xa0','').strip() for elem in team]\n",
        "\n",
        "        #Table 2 with information about placement, goals and points\n",
        "        \n",
        "\n",
        "        df_soccer2 = None\n",
        "\n",
        "        table2 = soup.findAll(\"div\", {\"class\" : \"responsive-table\"})\n",
        "\n",
        "        team2 = []\n",
        "        place = []\n",
        "        matches = []\n",
        "        difference = []\n",
        "        pts = []\n",
        "\n",
        "        if n in range(2013,2020):\n",
        "          for row in table2[1].findAll('tr'):\n",
        "                try:\n",
        "                    col = row.findAll('td')\n",
        "                    team2.append(col[2].text)\n",
        "                    place.append(col[0].text)\n",
        "                    matches.append(col[3].text)\n",
        "                    difference.append(col[4].text)\n",
        "                    pts.append(col[5].text)\n",
        "                except:\n",
        "                    pass\n",
        "          for row in table2[2].findAll('tr'):\n",
        "                try:\n",
        "                    col = row.findAll('td')\n",
        "                    team2.append(col[2].text)\n",
        "                    place.append(8+int(col[0].text))\n",
        "                    matches.append(col[3].text)\n",
        "                    difference.append(col[4].text)\n",
        "                    pts.append(col[5].text)\n",
        "                except:\n",
        "                    pass\n",
        "        else:\n",
        "            if len(table2) <= 2:\n",
        "              for row in table2[1].findAll('tr'):\n",
        "                  try:\n",
        "                      col = row.findAll('td')\n",
        "                      team2.append(col[2].text)\n",
        "                      place.append(col[0].text)\n",
        "                      matches.append(col[3].text)\n",
        "                      difference.append(col[4].text)\n",
        "                      pts.append(col[5].text)\n",
        "                  except:\n",
        "                      pass\n",
        "            else:\n",
        "              #Sometimes the information you need is in another table\n",
        "              for row in table2[2].findAll('tr'):\n",
        "                  try:\n",
        "                      col = row.findAll('td')\n",
        "                      team2.append(col[2].text)\n",
        "                      place.append(col[0].text)\n",
        "                      matches.append(col[3].text)\n",
        "                      difference.append(col[4].text)\n",
        "                      pts.append(col[5].text)\n",
        "                  except:\n",
        "                      pass\n",
        "        \n",
        "        team2 = [elem.replace('\\n','').replace('\\xa0','').strip() for elem in team2]\n",
        "\n",
        "        df_soccer1 = pd.DataFrame({'Team': team[1:], 'Season': n, 'Squad': squad[1:], 'Age': age[1:], 'Foreigners': foreigners[1:],\n",
        "                                     'Average value': average_market_value[1:], 'Total Value': total_market_value[1:]})\n",
        "\n",
        "        df_soccer2 = pd.DataFrame({'Team': team2, 'Place': place, 'Matches': matches, 'Difference': difference,\n",
        "                                 'Points': pts})\n",
        "        dct_pl['df_pl_%s' % n] = pd.merge(df_soccer1, df_soccer2, how=\"inner\", left_on=\"Team\", right_on=\"Team\")"
      ],
      "execution_count": 79,
      "outputs": []
    },
    {
      "cell_type": "code",
      "metadata": {
        "id": "jkKvshMunyIP"
      },
      "source": [
        "df_pl_final = pd.concat(dct_pl.values(), ignore_index=True)"
      ],
      "execution_count": 80,
      "outputs": []
    },
    {
      "cell_type": "code",
      "metadata": {
        "id": "oJk8IrDms4d0"
      },
      "source": [
        "#Cleaning strings and remove letters\n",
        "list_dataframes_conv = (['Average value','Total Value'])\n",
        "\n",
        "for n in range(0,len(list_dataframes_conv)):\n",
        "    df_pl_final[list_dataframes_conv[n]] = df_pl_final[list_dataframes_conv[n]]. \\\n",
        "    apply(lambda x: (x + \"000\").replace(',','') if \" tys. €\" in x else x).str.replace(' tys. €','')\n",
        "\n",
        "    df_pl_final[list_dataframes_conv[n]] = df_pl_final[list_dataframes_conv[n]]. \\\n",
        "    apply(lambda x: \"0,\" + x if \" Th. €\" in x else x).str.replace(' mln €','').str.replace(' mln €','').replace(',',np.NaN)\n",
        "\n",
        "    df_pl_final[list_dataframes_conv[n]] = df_pl_final[list_dataframes_conv[n]].apply(lambda x: x.replace(',','.'))\n",
        "\n",
        "df_pl_final['Age'] = df_pl_final['Age'].apply(lambda x: x.replace(',','.'))"
      ],
      "execution_count": 87,
      "outputs": []
    },
    {
      "cell_type": "code",
      "metadata": {
        "colab": {
          "base_uri": "https://localhost:8080/",
          "height": 374
        },
        "id": "pSVqkrLNuAwl",
        "outputId": "4d956299-60ad-4814-e54d-6ee2805c3881"
      },
      "source": [
        "#Convert columns for calculation to float\n",
        "df_pl_final[['Squad','Foreigners','Average value', 'Matches', 'Place','Difference', 'Points']].astype(int)\n",
        "df_pl_final[['Age','Total value']].astype(float)"
      ],
      "execution_count": 97,
      "outputs": [
        {
          "output_type": "error",
          "ename": "ValueError",
          "evalue": "ignored",
          "traceback": [
            "\u001b[0;31m---------------------------------------------------------------------------\u001b[0m",
            "\u001b[0;31mValueError\u001b[0m                                Traceback (most recent call last)",
            "\u001b[0;32m<ipython-input-97-990145e58cad>\u001b[0m in \u001b[0;36m<module>\u001b[0;34m()\u001b[0m\n\u001b[1;32m      1\u001b[0m \u001b[0;31m#Convert columns for calculation to float\u001b[0m\u001b[0;34m\u001b[0m\u001b[0;34m\u001b[0m\u001b[0;34m\u001b[0m\u001b[0m\n\u001b[0;32m----> 2\u001b[0;31m \u001b[0mdf_pl_final\u001b[0m\u001b[0;34m[\u001b[0m\u001b[0;34m[\u001b[0m\u001b[0;34m'Squad'\u001b[0m\u001b[0;34m,\u001b[0m\u001b[0;34m'Foreigners'\u001b[0m\u001b[0;34m,\u001b[0m\u001b[0;34m'Average value'\u001b[0m\u001b[0;34m,\u001b[0m \u001b[0;34m'Matches'\u001b[0m\u001b[0;34m,\u001b[0m \u001b[0;34m'Place'\u001b[0m\u001b[0;34m,\u001b[0m\u001b[0;34m'Difference'\u001b[0m\u001b[0;34m,\u001b[0m \u001b[0;34m'Points'\u001b[0m\u001b[0;34m]\u001b[0m\u001b[0;34m]\u001b[0m\u001b[0;34m.\u001b[0m\u001b[0mastype\u001b[0m\u001b[0;34m(\u001b[0m\u001b[0mint\u001b[0m\u001b[0;34m)\u001b[0m\u001b[0;34m\u001b[0m\u001b[0;34m\u001b[0m\u001b[0m\n\u001b[0m\u001b[1;32m      3\u001b[0m \u001b[0mdf_pl_final\u001b[0m\u001b[0;34m[\u001b[0m\u001b[0;34m[\u001b[0m\u001b[0;34m'Age'\u001b[0m\u001b[0;34m,\u001b[0m\u001b[0;34m'Total value'\u001b[0m\u001b[0;34m]\u001b[0m\u001b[0;34m]\u001b[0m\u001b[0;34m.\u001b[0m\u001b[0mastype\u001b[0m\u001b[0;34m(\u001b[0m\u001b[0mfloat\u001b[0m\u001b[0;34m)\u001b[0m\u001b[0;34m\u001b[0m\u001b[0;34m\u001b[0m\u001b[0m\n",
            "\u001b[0;32m/usr/local/lib/python3.7/dist-packages/pandas/core/generic.py\u001b[0m in \u001b[0;36mastype\u001b[0;34m(self, dtype, copy, errors)\u001b[0m\n\u001b[1;32m   5546\u001b[0m         \u001b[0;32melse\u001b[0m\u001b[0;34m:\u001b[0m\u001b[0;34m\u001b[0m\u001b[0;34m\u001b[0m\u001b[0m\n\u001b[1;32m   5547\u001b[0m             \u001b[0;31m# else, only a single dtype is given\u001b[0m\u001b[0;34m\u001b[0m\u001b[0;34m\u001b[0m\u001b[0;34m\u001b[0m\u001b[0m\n\u001b[0;32m-> 5548\u001b[0;31m             \u001b[0mnew_data\u001b[0m \u001b[0;34m=\u001b[0m \u001b[0mself\u001b[0m\u001b[0;34m.\u001b[0m\u001b[0m_mgr\u001b[0m\u001b[0;34m.\u001b[0m\u001b[0mastype\u001b[0m\u001b[0;34m(\u001b[0m\u001b[0mdtype\u001b[0m\u001b[0;34m=\u001b[0m\u001b[0mdtype\u001b[0m\u001b[0;34m,\u001b[0m \u001b[0mcopy\u001b[0m\u001b[0;34m=\u001b[0m\u001b[0mcopy\u001b[0m\u001b[0;34m,\u001b[0m \u001b[0merrors\u001b[0m\u001b[0;34m=\u001b[0m\u001b[0merrors\u001b[0m\u001b[0;34m,\u001b[0m\u001b[0;34m)\u001b[0m\u001b[0;34m\u001b[0m\u001b[0;34m\u001b[0m\u001b[0m\n\u001b[0m\u001b[1;32m   5549\u001b[0m             \u001b[0;32mreturn\u001b[0m \u001b[0mself\u001b[0m\u001b[0;34m.\u001b[0m\u001b[0m_constructor\u001b[0m\u001b[0;34m(\u001b[0m\u001b[0mnew_data\u001b[0m\u001b[0;34m)\u001b[0m\u001b[0;34m.\u001b[0m\u001b[0m__finalize__\u001b[0m\u001b[0;34m(\u001b[0m\u001b[0mself\u001b[0m\u001b[0;34m,\u001b[0m \u001b[0mmethod\u001b[0m\u001b[0;34m=\u001b[0m\u001b[0;34m\"astype\"\u001b[0m\u001b[0;34m)\u001b[0m\u001b[0;34m\u001b[0m\u001b[0;34m\u001b[0m\u001b[0m\n\u001b[1;32m   5550\u001b[0m \u001b[0;34m\u001b[0m\u001b[0m\n",
            "\u001b[0;32m/usr/local/lib/python3.7/dist-packages/pandas/core/internals/managers.py\u001b[0m in \u001b[0;36mastype\u001b[0;34m(self, dtype, copy, errors)\u001b[0m\n\u001b[1;32m    602\u001b[0m         \u001b[0mself\u001b[0m\u001b[0;34m,\u001b[0m \u001b[0mdtype\u001b[0m\u001b[0;34m,\u001b[0m \u001b[0mcopy\u001b[0m\u001b[0;34m:\u001b[0m \u001b[0mbool\u001b[0m \u001b[0;34m=\u001b[0m \u001b[0;32mFalse\u001b[0m\u001b[0;34m,\u001b[0m \u001b[0merrors\u001b[0m\u001b[0;34m:\u001b[0m \u001b[0mstr\u001b[0m \u001b[0;34m=\u001b[0m \u001b[0;34m\"raise\"\u001b[0m\u001b[0;34m\u001b[0m\u001b[0;34m\u001b[0m\u001b[0m\n\u001b[1;32m    603\u001b[0m     ) -> \"BlockManager\":\n\u001b[0;32m--> 604\u001b[0;31m         \u001b[0;32mreturn\u001b[0m \u001b[0mself\u001b[0m\u001b[0;34m.\u001b[0m\u001b[0mapply\u001b[0m\u001b[0;34m(\u001b[0m\u001b[0;34m\"astype\"\u001b[0m\u001b[0;34m,\u001b[0m \u001b[0mdtype\u001b[0m\u001b[0;34m=\u001b[0m\u001b[0mdtype\u001b[0m\u001b[0;34m,\u001b[0m \u001b[0mcopy\u001b[0m\u001b[0;34m=\u001b[0m\u001b[0mcopy\u001b[0m\u001b[0;34m,\u001b[0m \u001b[0merrors\u001b[0m\u001b[0;34m=\u001b[0m\u001b[0merrors\u001b[0m\u001b[0;34m)\u001b[0m\u001b[0;34m\u001b[0m\u001b[0;34m\u001b[0m\u001b[0m\n\u001b[0m\u001b[1;32m    605\u001b[0m \u001b[0;34m\u001b[0m\u001b[0m\n\u001b[1;32m    606\u001b[0m     def convert(\n",
            "\u001b[0;32m/usr/local/lib/python3.7/dist-packages/pandas/core/internals/managers.py\u001b[0m in \u001b[0;36mapply\u001b[0;34m(self, f, align_keys, **kwargs)\u001b[0m\n\u001b[1;32m    407\u001b[0m                 \u001b[0mapplied\u001b[0m \u001b[0;34m=\u001b[0m \u001b[0mb\u001b[0m\u001b[0;34m.\u001b[0m\u001b[0mapply\u001b[0m\u001b[0;34m(\u001b[0m\u001b[0mf\u001b[0m\u001b[0;34m,\u001b[0m \u001b[0;34m**\u001b[0m\u001b[0mkwargs\u001b[0m\u001b[0;34m)\u001b[0m\u001b[0;34m\u001b[0m\u001b[0;34m\u001b[0m\u001b[0m\n\u001b[1;32m    408\u001b[0m             \u001b[0;32melse\u001b[0m\u001b[0;34m:\u001b[0m\u001b[0;34m\u001b[0m\u001b[0;34m\u001b[0m\u001b[0m\n\u001b[0;32m--> 409\u001b[0;31m                 \u001b[0mapplied\u001b[0m \u001b[0;34m=\u001b[0m \u001b[0mgetattr\u001b[0m\u001b[0;34m(\u001b[0m\u001b[0mb\u001b[0m\u001b[0;34m,\u001b[0m \u001b[0mf\u001b[0m\u001b[0;34m)\u001b[0m\u001b[0;34m(\u001b[0m\u001b[0;34m**\u001b[0m\u001b[0mkwargs\u001b[0m\u001b[0;34m)\u001b[0m\u001b[0;34m\u001b[0m\u001b[0;34m\u001b[0m\u001b[0m\n\u001b[0m\u001b[1;32m    410\u001b[0m             \u001b[0mresult_blocks\u001b[0m \u001b[0;34m=\u001b[0m \u001b[0m_extend_blocks\u001b[0m\u001b[0;34m(\u001b[0m\u001b[0mapplied\u001b[0m\u001b[0;34m,\u001b[0m \u001b[0mresult_blocks\u001b[0m\u001b[0;34m)\u001b[0m\u001b[0;34m\u001b[0m\u001b[0;34m\u001b[0m\u001b[0m\n\u001b[1;32m    411\u001b[0m \u001b[0;34m\u001b[0m\u001b[0m\n",
            "\u001b[0;32m/usr/local/lib/python3.7/dist-packages/pandas/core/internals/blocks.py\u001b[0m in \u001b[0;36mastype\u001b[0;34m(self, dtype, copy, errors)\u001b[0m\n\u001b[1;32m    593\u001b[0m             \u001b[0mvals1d\u001b[0m \u001b[0;34m=\u001b[0m \u001b[0mvalues\u001b[0m\u001b[0;34m.\u001b[0m\u001b[0mravel\u001b[0m\u001b[0;34m(\u001b[0m\u001b[0;34m)\u001b[0m\u001b[0;34m\u001b[0m\u001b[0;34m\u001b[0m\u001b[0m\n\u001b[1;32m    594\u001b[0m             \u001b[0;32mtry\u001b[0m\u001b[0;34m:\u001b[0m\u001b[0;34m\u001b[0m\u001b[0;34m\u001b[0m\u001b[0m\n\u001b[0;32m--> 595\u001b[0;31m                 \u001b[0mvalues\u001b[0m \u001b[0;34m=\u001b[0m \u001b[0mastype_nansafe\u001b[0m\u001b[0;34m(\u001b[0m\u001b[0mvals1d\u001b[0m\u001b[0;34m,\u001b[0m \u001b[0mdtype\u001b[0m\u001b[0;34m,\u001b[0m \u001b[0mcopy\u001b[0m\u001b[0;34m=\u001b[0m\u001b[0;32mTrue\u001b[0m\u001b[0;34m)\u001b[0m\u001b[0;34m\u001b[0m\u001b[0;34m\u001b[0m\u001b[0m\n\u001b[0m\u001b[1;32m    596\u001b[0m             \u001b[0;32mexcept\u001b[0m \u001b[0;34m(\u001b[0m\u001b[0mValueError\u001b[0m\u001b[0;34m,\u001b[0m \u001b[0mTypeError\u001b[0m\u001b[0;34m)\u001b[0m\u001b[0;34m:\u001b[0m\u001b[0;34m\u001b[0m\u001b[0;34m\u001b[0m\u001b[0m\n\u001b[1;32m    597\u001b[0m                 \u001b[0;31m# e.g. astype_nansafe can fail on object-dtype of strings\u001b[0m\u001b[0;34m\u001b[0m\u001b[0;34m\u001b[0m\u001b[0;34m\u001b[0m\u001b[0m\n",
            "\u001b[0;32m/usr/local/lib/python3.7/dist-packages/pandas/core/dtypes/cast.py\u001b[0m in \u001b[0;36mastype_nansafe\u001b[0;34m(arr, dtype, copy, skipna)\u001b[0m\n\u001b[1;32m    972\u001b[0m         \u001b[0;31m# work around NumPy brokenness, #1987\u001b[0m\u001b[0;34m\u001b[0m\u001b[0;34m\u001b[0m\u001b[0;34m\u001b[0m\u001b[0m\n\u001b[1;32m    973\u001b[0m         \u001b[0;32mif\u001b[0m \u001b[0mnp\u001b[0m\u001b[0;34m.\u001b[0m\u001b[0missubdtype\u001b[0m\u001b[0;34m(\u001b[0m\u001b[0mdtype\u001b[0m\u001b[0;34m.\u001b[0m\u001b[0mtype\u001b[0m\u001b[0;34m,\u001b[0m \u001b[0mnp\u001b[0m\u001b[0;34m.\u001b[0m\u001b[0minteger\u001b[0m\u001b[0;34m)\u001b[0m\u001b[0;34m:\u001b[0m\u001b[0;34m\u001b[0m\u001b[0;34m\u001b[0m\u001b[0m\n\u001b[0;32m--> 974\u001b[0;31m             \u001b[0;32mreturn\u001b[0m \u001b[0mlib\u001b[0m\u001b[0;34m.\u001b[0m\u001b[0mastype_intsafe\u001b[0m\u001b[0;34m(\u001b[0m\u001b[0marr\u001b[0m\u001b[0;34m.\u001b[0m\u001b[0mravel\u001b[0m\u001b[0;34m(\u001b[0m\u001b[0;34m)\u001b[0m\u001b[0;34m,\u001b[0m \u001b[0mdtype\u001b[0m\u001b[0;34m)\u001b[0m\u001b[0;34m.\u001b[0m\u001b[0mreshape\u001b[0m\u001b[0;34m(\u001b[0m\u001b[0marr\u001b[0m\u001b[0;34m.\u001b[0m\u001b[0mshape\u001b[0m\u001b[0;34m)\u001b[0m\u001b[0;34m\u001b[0m\u001b[0;34m\u001b[0m\u001b[0m\n\u001b[0m\u001b[1;32m    975\u001b[0m \u001b[0;34m\u001b[0m\u001b[0m\n\u001b[1;32m    976\u001b[0m         \u001b[0;31m# if we have a datetime/timedelta array of objects\u001b[0m\u001b[0;34m\u001b[0m\u001b[0;34m\u001b[0m\u001b[0;34m\u001b[0m\u001b[0m\n",
            "\u001b[0;32mpandas/_libs/lib.pyx\u001b[0m in \u001b[0;36mpandas._libs.lib.astype_intsafe\u001b[0;34m()\u001b[0m\n",
            "\u001b[0;31mValueError\u001b[0m: invalid literal for int() with base 10: '1.03'"
          ]
        }
      ]
    },
    {
      "cell_type": "code",
      "metadata": {
        "colab": {
          "base_uri": "https://localhost:8080/",
          "height": 419
        },
        "id": "_d_G35rhr4mQ",
        "outputId": "315497f2-ea8b-494c-f4ab-736d185fd122"
      },
      "source": [
        "df_pl_final.head(100)"
      ],
      "execution_count": 100,
      "outputs": [
        {
          "output_type": "execute_result",
          "data": {
            "text/html": [
              "<div>\n",
              "<style scoped>\n",
              "    .dataframe tbody tr th:only-of-type {\n",
              "        vertical-align: middle;\n",
              "    }\n",
              "\n",
              "    .dataframe tbody tr th {\n",
              "        vertical-align: top;\n",
              "    }\n",
              "\n",
              "    .dataframe thead th {\n",
              "        text-align: right;\n",
              "    }\n",
              "</style>\n",
              "<table border=\"1\" class=\"dataframe\">\n",
              "  <thead>\n",
              "    <tr style=\"text-align: right;\">\n",
              "      <th></th>\n",
              "      <th>Team</th>\n",
              "      <th>Season</th>\n",
              "      <th>Squad</th>\n",
              "      <th>Age</th>\n",
              "      <th>Foreigners</th>\n",
              "      <th>Average value</th>\n",
              "      <th>Total Value</th>\n",
              "      <th>Place</th>\n",
              "      <th>Matches</th>\n",
              "      <th>Difference</th>\n",
              "      <th>Points</th>\n",
              "    </tr>\n",
              "  </thead>\n",
              "  <tbody>\n",
              "    <tr>\n",
              "      <th>0</th>\n",
              "      <td>Wisła Kraków</td>\n",
              "      <td>2012</td>\n",
              "      <td>32</td>\n",
              "      <td>25.0</td>\n",
              "      <td>13</td>\n",
              "      <td>632000</td>\n",
              "      <td>20.23</td>\n",
              "      <td>8</td>\n",
              "      <td>30</td>\n",
              "      <td>-7</td>\n",
              "      <td>38</td>\n",
              "    </tr>\n",
              "    <tr>\n",
              "      <th>1</th>\n",
              "      <td>Śląsk Wrocław</td>\n",
              "      <td>2012</td>\n",
              "      <td>34</td>\n",
              "      <td>24.6</td>\n",
              "      <td>9</td>\n",
              "      <td>594000</td>\n",
              "      <td>20.20</td>\n",
              "      <td>3</td>\n",
              "      <td>30</td>\n",
              "      <td>2</td>\n",
              "      <td>47</td>\n",
              "    </tr>\n",
              "    <tr>\n",
              "      <th>2</th>\n",
              "      <td>Legia Warszawa</td>\n",
              "      <td>2012</td>\n",
              "      <td>25</td>\n",
              "      <td>24.2</td>\n",
              "      <td>7</td>\n",
              "      <td>772000</td>\n",
              "      <td>19.30</td>\n",
              "      <td>1</td>\n",
              "      <td>30</td>\n",
              "      <td>37</td>\n",
              "      <td>67</td>\n",
              "    </tr>\n",
              "    <tr>\n",
              "      <th>3</th>\n",
              "      <td>Lech Poznań</td>\n",
              "      <td>2012</td>\n",
              "      <td>31</td>\n",
              "      <td>24.2</td>\n",
              "      <td>10</td>\n",
              "      <td>504000</td>\n",
              "      <td>15.63</td>\n",
              "      <td>2</td>\n",
              "      <td>30</td>\n",
              "      <td>24</td>\n",
              "      <td>61</td>\n",
              "    </tr>\n",
              "    <tr>\n",
              "      <th>4</th>\n",
              "      <td>Polonia</td>\n",
              "      <td>2012</td>\n",
              "      <td>41</td>\n",
              "      <td>23.6</td>\n",
              "      <td>12</td>\n",
              "      <td>346000</td>\n",
              "      <td>14.20</td>\n",
              "      <td>6</td>\n",
              "      <td>30</td>\n",
              "      <td>11</td>\n",
              "      <td>42</td>\n",
              "    </tr>\n",
              "    <tr>\n",
              "      <th>...</th>\n",
              "      <td>...</td>\n",
              "      <td>...</td>\n",
              "      <td>...</td>\n",
              "      <td>...</td>\n",
              "      <td>...</td>\n",
              "      <td>...</td>\n",
              "      <td>...</td>\n",
              "      <td>...</td>\n",
              "      <td>...</td>\n",
              "      <td>...</td>\n",
              "      <td>...</td>\n",
              "    </tr>\n",
              "    <tr>\n",
              "      <th>95</th>\n",
              "      <td>Górnik Zabrze</td>\n",
              "      <td>2017</td>\n",
              "      <td>35</td>\n",
              "      <td>22.4</td>\n",
              "      <td>7</td>\n",
              "      <td>91000</td>\n",
              "      <td>3.20</td>\n",
              "      <td>4</td>\n",
              "      <td>37</td>\n",
              "      <td>14</td>\n",
              "      <td>60</td>\n",
              "    </tr>\n",
              "    <tr>\n",
              "      <th>96</th>\n",
              "      <td>Legia Warszawa</td>\n",
              "      <td>2018</td>\n",
              "      <td>44</td>\n",
              "      <td>25.0</td>\n",
              "      <td>20</td>\n",
              "      <td>789000</td>\n",
              "      <td>34.73</td>\n",
              "      <td>2</td>\n",
              "      <td>37</td>\n",
              "      <td>17</td>\n",
              "      <td>68</td>\n",
              "    </tr>\n",
              "    <tr>\n",
              "      <th>97</th>\n",
              "      <td>Lech Poznań</td>\n",
              "      <td>2018</td>\n",
              "      <td>41</td>\n",
              "      <td>23.6</td>\n",
              "      <td>15</td>\n",
              "      <td>459000</td>\n",
              "      <td>18.80</td>\n",
              "      <td>8</td>\n",
              "      <td>37</td>\n",
              "      <td>1</td>\n",
              "      <td>52</td>\n",
              "    </tr>\n",
              "    <tr>\n",
              "      <th>98</th>\n",
              "      <td>Jagiellonia</td>\n",
              "      <td>2018</td>\n",
              "      <td>45</td>\n",
              "      <td>23.8</td>\n",
              "      <td>18</td>\n",
              "      <td>343000</td>\n",
              "      <td>15.43</td>\n",
              "      <td>4</td>\n",
              "      <td>37</td>\n",
              "      <td>3</td>\n",
              "      <td>57</td>\n",
              "    </tr>\n",
              "    <tr>\n",
              "      <th>99</th>\n",
              "      <td>Cracovia</td>\n",
              "      <td>2018</td>\n",
              "      <td>50</td>\n",
              "      <td>23.1</td>\n",
              "      <td>21</td>\n",
              "      <td>250000</td>\n",
              "      <td>12.48</td>\n",
              "      <td>5</td>\n",
              "      <td>37</td>\n",
              "      <td>2</td>\n",
              "      <td>57</td>\n",
              "    </tr>\n",
              "  </tbody>\n",
              "</table>\n",
              "<p>100 rows × 11 columns</p>\n",
              "</div>"
            ],
            "text/plain": [
              "              Team  Season Squad   Age  ... Place Matches Difference Points\n",
              "0     Wisła Kraków    2012    32  25.0  ...    8       30         -7     38\n",
              "1    Śląsk Wrocław    2012    34  24.6  ...    3       30          2     47\n",
              "2   Legia Warszawa    2012    25  24.2  ...    1       30         37     67\n",
              "3      Lech Poznań    2012    31  24.2  ...    2       30         24     61\n",
              "4          Polonia    2012    41  23.6  ...    6       30         11     42\n",
              "..             ...     ...   ...   ...  ...   ...     ...        ...    ...\n",
              "95   Górnik Zabrze    2017    35  22.4  ...    4       37         14     60\n",
              "96  Legia Warszawa    2018    44  25.0  ...     2      37         17     68\n",
              "97     Lech Poznań    2018    41  23.6  ...     8      37          1     52\n",
              "98     Jagiellonia    2018    45  23.8  ...     4      37          3     57\n",
              "99        Cracovia    2018    50  23.1  ...     5      37          2     57\n",
              "\n",
              "[100 rows x 11 columns]"
            ]
          },
          "metadata": {},
          "execution_count": 100
        }
      ]
    },
    {
      "cell_type": "code",
      "metadata": {
        "id": "NEkBRFyxsDTp"
      },
      "source": [
        ""
      ],
      "execution_count": null,
      "outputs": []
    }
  ]
}